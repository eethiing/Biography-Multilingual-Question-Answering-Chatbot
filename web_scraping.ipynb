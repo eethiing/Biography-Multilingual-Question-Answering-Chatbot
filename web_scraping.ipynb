{
 "cells": [
  {
   "cell_type": "code",
   "execution_count": 1,
   "metadata": {},
   "outputs": [
    {
     "name": "stdout",
     "output_type": "stream",
     "text": [
      "^C\n"
     ]
    },
    {
     "name": "stdout",
     "output_type": "stream",
     "text": [
      "Requirement already satisfied: wikipedia in c:\\users\\user\\anaconda3\\envs\\ailab\\lib\\site-packages (1.4.0)\n",
      "Requirement already satisfied: requests<3.0.0,>=2.0.0 in c:\\users\\user\\anaconda3\\envs\\ailab\\lib\\site-packages (from wikipedia) (2.27.1)\n",
      "Requirement already satisfied: beautifulsoup4 in c:\\users\\user\\anaconda3\\envs\\ailab\\lib\\site-packages (from wikipedia) (4.11.1)\n",
      "Requirement already satisfied: urllib3<1.27,>=1.21.1 in c:\\users\\user\\anaconda3\\envs\\ailab\\lib\\site-packages (from requests<3.0.0,>=2.0.0->wikipedia) (1.26.9)\n",
      "Requirement already satisfied: charset-normalizer~=2.0.0 in c:\\users\\user\\anaconda3\\envs\\ailab\\lib\\site-packages (from requests<3.0.0,>=2.0.0->wikipedia) (2.0.12)\n",
      "Requirement already satisfied: certifi>=2017.4.17 in c:\\users\\user\\anaconda3\\envs\\ailab\\lib\\site-packages (from requests<3.0.0,>=2.0.0->wikipedia) (2022.6.15)\n",
      "Requirement already satisfied: idna<4,>=2.5 in c:\\users\\user\\anaconda3\\envs\\ailab\\lib\\site-packages (from requests<3.0.0,>=2.0.0->wikipedia) (3.3)\n",
      "Requirement already satisfied: soupsieve>1.2 in c:\\users\\user\\anaconda3\\envs\\ailab\\lib\\site-packages (from beautifulsoup4->wikipedia) (2.3.1)\n",
      "\n",
      "[notice] A new release of pip available: 22.2.1 -> 23.0.1\n",
      "[notice] To update, run: python.exe -m pip install --upgrade pip\n"
     ]
    }
   ],
   "source": [
    "# DOWNLOAD THIS\n",
    "!pip install wikipedia"
   ]
  },
  {
   "cell_type": "code",
   "execution_count": 1,
   "metadata": {},
   "outputs": [],
   "source": [
    "import wikipedia as wk"
   ]
  },
  {
   "cell_type": "code",
   "execution_count": 2,
   "metadata": {},
   "outputs": [
    {
     "data": {
      "text/plain": [
       "True"
      ]
     },
     "execution_count": 2,
     "metadata": {},
     "output_type": "execute_result"
    }
   ],
   "source": [
    "'ms' in wk.languages()"
   ]
  },
  {
   "cell_type": "code",
   "execution_count": 3,
   "metadata": {},
   "outputs": [
    {
     "data": {
      "text/plain": [
       "'Bahasa Melayu'"
      ]
     },
     "execution_count": 3,
     "metadata": {},
     "output_type": "execute_result"
    }
   ],
   "source": [
    "# change wikipedia to malay\n",
    "wk.languages()['ms']"
   ]
  },
  {
   "cell_type": "code",
   "execution_count": 6,
   "metadata": {},
   "outputs": [],
   "source": [
    "wk.set_lang('ms')"
   ]
  },
  {
   "cell_type": "code",
   "execution_count": 7,
   "metadata": {},
   "outputs": [
    {
     "name": "stdout",
     "output_type": "stream",
     "text": [
      "Audrey Kathleen Ruston ( Mei 1929 - 20 Januari 1993), lebih dikenali sebagai Audrey Hepburn (Tulisan Jawi: اودريي هيڤبورن), merupakan seorang pelakon dan dermawan British yang dikenali dengan ikon filem dan fesyen beliau.\n",
      " Satu bintang pada Zaman Kegemilangan Klasik Hollywood, beliau dinilai sebagai legenda pelakon wanita ketiga terbesar dalam sejarah pawagam Amerika Syarikat oleh Lembaga Filem Amerika (AFI) dan telah disenaraikan dalam dewan kemasyhuran Senarai Berpakaian Terbaik Antarabangsa.\n",
      "Dilahirkan di Ixelles, sebuah daerah di Brussel, beliau dibesarkan di Belgium, England dan Belanda, termasuk bandar Amhem yang sedang diduduki Nazi sewaktu itu di mana dia bertugas sebagai perutusan bagi penentang Belanda dan membantu mengumpulkan dana.\n",
      " Di Amsterdam, dia mempelajari balet dari Sonia Gaskell sebelum berpindah ke London pada tahun 1948 untuk meneruskan latihan baletnya dengan Marie Rambert dan berperanan sebagai gadis korus dalam pementasan musikal West End.\n",
      " Beliau mampu bertutur dalam beberapa bahasa, termasuklah Bahasa Inggeris, Perancis, Belanda, Itali, Sepanyol dan Jerman.\n",
      "Selepas beberapa kemunculan kecil dalam beberapa filem, Hepburn berlakon dalam drama Broadway Gigi (1951) selepas dipilih oleh novelis Perancis Colette.\n",
      " Hepburn muncul sebagai bintang selepas berlakon sebagai watak utama dalam Roman Holiday (1953), di mana beliau merupakan pelakon wanita pertama yang memenangi satu Anugerah Akademi, satu Anugerah Golden Globe dan satu Anugerah BAFTA untuk satu persembahan tunggal.\n",
      " Dalam tahun yang sama, beliau memenangi satu Anugerah Tony untuk Pelakon Wanita Utama Terbaik dalam satu Drama untuk persembahan beliau dalam drama Ondine (1951).\n",
      " Hepburn seterusnya membintangi beberapa filem yang berjaya, termasuklah Sabrina (1954), The Nun's Story (1959), Breakfast at Tiffany's (1961), Charade (1963), My Fair Lady (1964) dan Wait Until Dark (1967), di mana beliau mendapat pencalonan untuk Anugerah Akademi, Golden Globe dan BAFTA .\n",
      " Hepburn berjaya mempunyai rekod tiga Anugerah BAFTA untuk Pelakon Wanita British Terbaik sebagai Peranan Utama.\n",
      " Sebagai pengiktirafan terhadap kerjaya filem beliau, beliau telah dianugerahkan Anugerah Pencapaian Sepanjang Hayat dari BAFTA, Anugerah Golden Globe Cecil B.\n",
      " DeMille, Anugerah Pencapaian Hayat Screen Actors Guild, dan Anugerah Tony Khas.\n",
      " Beliau merupakan salah satu daripada beberapa orang yang telah memenangi Anugerah Akademi, Emmy, Grammy dan Tony sekaligus.\n",
      "\n",
      "Hepburn hanya muncul dalam sedikit filem dalam usia selanjutnya, dan menumpukan sebahagian besar daripada kehidupannya untuk UNICEF.\n",
      " Walaupun telah menyumbang kepada pertubuhan itu sejak tahun 1954, beliau telah berkhidmat di beberapa komuniti paling termiskin di Afrika, Amerika Selatan dan Asia di antara tahun 1988 dan 1992.\n",
      " Beliau telah dianugerahkan Pingat Presiden Kebebasan pada Disember 1992 sebagai pengiktirafan terhadap khidmat beliau sebagai Duta Muhibah UNICEF.\n",
      " Sebulan kemudian, Hepburn meninggal dunia akibat kanser apendiks di rumahnya yang terletak di Switzerland pada usia 63 tahun.\n",
      "\n",
      "\n",
      "\n",
      " Kerjaya lakonan \n",
      "\n",
      "\n",
      "= Permulaan kerjaya dan peranan-peranan awal (1945-1952) =\n",
      "Selepas tamatnya perang pada tahun 1945, Ella dan Hepburn berpindah ke Amsterdam, di mana Hepburn mengambil kelas balet dan belajar selama tiga tahun dengan penari Sonia Gaskell, seorang tokoh terkemuka dalam bidang balet Belanda.\n",
      " Pada tahun 1948, beliau muncul dalam filem buat kali pertama sebagai seorang pramugari dalam filem Dutch in Seven Lessons (1948), sebuah filem pelancongan pendidikan yang diarah oleh Charles van der Linden dan Henry Josephson.\n",
      " Kemudian dalam tahun yang sama, beliau berpindah ke London, United Kingdom untuk mengambil biasiswa balet yang ditawarkan oleh syarikat tarian Ballet Rambert (kini Syarikat Rambert Dance), yang ketika itu berpusat di Notting Hill.\n",
      " Beliau menyara kehidupannya dengan kerja sambilan sebagai seorang model, dan meninggalkan \"Ruston\" dari nama keluarga beliau.\n",
      " Semasa meminta penilaian daripada syarikat Rambert terhadap prospek beliau, Hepburn diberitahu bahawa beliau mempunyai bakat, tetapi ketinggian dan keadaan badan beliau yang masih lemah disebabkan kesan kekurangan pemakanan semasa perang mungkin akan menyebabkan status untuk menjadi Penari Wanita Utama Ballet (Prima Ballerina) tidak dapat dicapai.\n",
      " Oleh itu, beliau membuat keputusan untuk menumpukan perhatian terhadap bidang lakonan.\n",
      "\n",
      "\n",
      "Ibu Hepburn bekerja keras untuk menyara kehidupan mereka dan Hepburn mula bekerja sebagai seorang penyanyi wanita korus dalam beberapa pusparagam teater muzikal iaitu High Button Shoes (1948) yang bertempat di Hippodrome, London dan Sauce Tartare (1949) dan Sauce Piquante (1950) di Teater Cambridge yang bertempat di kawasan Teater West End.\n",
      " Semasa kerja-kerja teater, beliau mengambil kelas kemahiran seni pidato dan cara pengucapan dan belajar dengan pelakon Felix Aylmer untuk mengembangkan suara beliau.\n",
      " Selepas ditemui oleh seorang pengarah uji bakat semasa berlakon dalam Sauce Piquante, Hepburn telah didaftarkan sebagai seorang pelakon bebas oleh Associated British Picture Corporation.\n",
      " Pada tahun 1951, beliau telah muncul dalam filem-filem 1951 seperti filem One Wild Oat (1951), Laughter in Paradise (1951), Young Wives' Tale (1951) dan The Lavender Hill Mob (1951) sebagai peranan-peranan kecil.\n",
      " Beliau memainkan peranannya sebagai seorang pelakon sokongan utama dalam filem The Secret People (1952) yang diarah oleh Thorold Dickinson, di mana beliau memainkan seorang ballerina yang luar biasa dan mempersembahkan kesemua urutan tarian sendiri.\n",
      "\n",
      "\n",
      "Hepburn kemudiannya telah ditawarkan satu peranan kecil dalam filem yang dibuat dalam kedua-dua Bahasa Inggeris dan Itali iaitu filem Monte Carlo Baby (Nous Irons à Monte Carlo) (1951).\n",
      " Ketika Hepburn sedang berada dalam penggambaran filem tersebut, novelis Perancis Colette (Sidonie-Gabrielle Colette) kebetulan berada di set bertujuan untuk mencari seorang pelakon yang memainkan watak utama dalam drama Broadway beliau yang bernama Gigi (1951).\n",
      " Colette melihat Hepburn dan kemudian serta merta mengetahui bahawa dia akhirnya telah menemui Gigi beliau.\n",
      " Colette telah memilih Hepburn dan kononnya berkata \"Voilà\" (perkataan Bahasa Itali yang bermaksud ''di sini'') yang menunjukkan isyarat bahawa Hepburn merupakan pilihan Colette.\n",
      " Ketika pertama kali ditawarkan peranan Gigi oleh Colette, Hepburn menjawab dengan kesopanan, \"Saya minta maaf, Madame, tetapi ia adalah mustahil.\n",
      " Saya tidak mampu, kerana saya tidak boleh berlakon.\n",
      " \" Tetapi Colette berpendapat sebaliknya dan Hepburn pun menerima peranan tersebut.\n",
      "\n",
      "\n",
      "Hepburn pergi ke raptai tanpa sebarang pengalaman bercakap di atas pentas dan memerlukan bimbingan peribadi.\n",
      " Apabila Gigi pertama pentaskan di Teater Fulton pada 24 November 1951, pengkritik berkata bahawa beliau kurang pengalaman, tetapi mereka tergoda oleh daya tarikan beliau.\n",
      " Gigi membuat Hepburn mendapat Anugerah Dunia Teater (Theatre World Award) atas debut beliau di Broadway; nama beliau telah dinaikkan di atas tajuk drama pada khemah besar teater.\n",
      " Drama ini berlangsung sebanyak 219 kali persembahan dan menutup pada 31 Mei 1952.\n",
      " Pada 13 Oktober 1952, drama tersebut telah mengunjungi Pittsburgh, Amerika Syarikat untuk mempersembahkan drama tersebut dan seterusnya melawat ke tempat-tempat lain di Amerika Syarikat iaitu Cleveland, Chicago, Detroit, Washington dan Los Angeles sebelum persembahan ditutup pada 16 Mei 1953 di San Francisco.\n",
      "\n",
      "\n",
      "\n",
      "= Berlakon dalam Roman Holiday dan menjadi bintang terkenal (1953-1960) =\n",
      "\n",
      "Dalam filem Roman Holiday (1953), Hepburn mendapat peranan utama pertama sebagai Princess Anne, seorang puteri Eropah melarikan diri dari tampuk royalti dengan menyamar.\n",
      " Walaupun penerbit mahu Elizabeth Taylor untuk memainkan peranan tersebut pada permulaannya, namun pengarah William Wyler begitu kagum dengan uji lakon Hepburn dan meletakkan nama Hepburn untuk peranan tersebut.\n",
      " Wyler kemudiannya berkata, \"Dia mempunyai segala-galanya yang saya sedang mencari: daya tarikan, kemurnian, dan bakat.\n",
      " Beliau juga sangat menghiburkan.\n",
      " Beliau benar-benar mempesonakan dan kami pun berkata, 'Inilah gadis itu!'.\n",
      "Pada asalnya, filem tersebut hanya mempunyai nama Gregory Peck di atas nama tajuk filem tersebut, dengan \"Memperkenalkan Audrey Hepburn\" di bawah dalam saiz perkataan yang lebih kecil.\n",
      " Walau bagaimanapun, Peck mencadangkan kepada Wyler untuk memberi keutamaan kepada Hepburn supaya nama Hepburn muncul sebelum nama tajuk filem dan dalam saiz perkataan yang besar seperti nama Peck.\n",
      " Peck berkata kepada Wyler bahawa: \"Anda perlu mengubah perkara itu kerana dia akan menjadi sebuah bintang besar dan saya akan kelihatan seperti seorang yang bodoh.\n",
      "\"Hepburn mendapat pujian dan sanjungan daripada kritis dan komersil atas lakonan beliau, dan telah memenang Anugerah Akademi untuk Pelakon Wanita Terbaik di luar jangkaan beliau, anugerah pertama beliau bagi Anugerah BAFTA untuk Pelakon British Terbaik dalam Peranan Utama, dan Anugerah Golden Globe untuk Pelakon Terbaik - Filem Drama pada tahun 1953.\n",
      " Dalam ulasan pengkritik AH Weiler yang dipaparkan dalam akhbar The New York Times, beliau menulis:\n",
      "\n",
      "Hepburn telah ditandatangani kontrak sebanyak tujuh filem dengan Paramount Pictures.\n",
      " Antara syarat kontrak tersebut ialah tempoh masa 12 bulan di antara setiap filem untuk memberi masa kepada Hepburn untuk menumpukan perhatian dalam kerja pentas.\n",
      " Dengan adanya masa, Hepburn dapat menghasilkan illustrasi tentang dirinya yang kemudian menjadi terkenal dan dijadikan kulit majalah Time yang bertarikh 7 September, 1953.\n",
      "Mengikuti kejayaan beliau dalam Roman Holiday, beliau membintangi dalam filem romantis-komedi Sabrina (1954) yang diarah oleh Billy Wilder.\n",
      " Bagi persembahan beliau dalam Sabrina, Hepburn telah dicalonkan untuk Anugerah Akademi untuk Pelakon Terbaik tahun 1954 sementara memenangi Anugerah BAFTA untuk Pelakon British Terbaik dalam Peranan Utama pada tahun yang sama.\n",
      "\n",
      "Beliau membuat satu kolaborasi lagi pada tahun tersebut, kali ini dengan pelakon Mel Ferrer dalam drama fantasi Ondine (1954) di Broadway.\n",
      "\n",
      "\n",
      "\n",
      " Filemografi dan kredit teater \n",
      "\n",
      "\n",
      "= Filem =\n",
      "\n",
      "\n",
      " Rujukan \n",
      "\n",
      "\n",
      "= Petikan =\n",
      "\n",
      "\n",
      "= Sumber =\n",
      "Ferrer, Sean (2005).\n",
      " Audrey Hepburn, an Elegant Spirit.\n",
      " New York: Atria.\n",
      " ISBN 978-0-671-02479-6.\n",
      "CS1 maint: ref=harv (link)\n",
      "de Givenchy, Hubert (2007).\n",
      " Audrey Hepburn.\n",
      " London: Pavilion.\n",
      " ISBN 978-1-86205-775-3.\n",
      "CS1 maint: ref=harv (link)\n",
      "Paris, Barry (2001).\n",
      " Audrey Hepburn.\n",
      " Berkley Trade.\n",
      " ISBN 978-0-425-18212-3.\n",
      "CS1 maint: ref=harv (link)\n",
      "Vermilye, Jerry (1995).\n",
      " The Complete Films of Audrey Hepburn.\n",
      " New York: Citadel Press.\n",
      " ISBN 0-8065-1598-8.\n",
      "CS1 maint: ref=harv (link)\n",
      "Walker, Alexander (1994).\n",
      " Audrey, Her Real Story.\n",
      " London: Orion.\n",
      " ISBN 1-85797-352-6.\n",
      "CS1 maint: ref=harv (link)\n",
      "Walter, Alexander (1997).\n",
      " Audrey.\n",
      " St.\n",
      " Martin's Press.\n",
      " ISBN 0-312-18046-2.\n",
      "CS1 maint: ref=harv (link)\n",
      "Woodward, Ian (31 Mei 2012).\n",
      " Audrey Hepburn: Fair Lady of the Screen.\n",
      " Ebury Publishing.\n",
      " ISBN 978-1-4481-3293-5.\n",
      "CS1 maint: ref=harv (link)\n",
      "\n",
      "\n",
      " Pautan luar \n",
      "Tapak web rasmi tentang Hepburn (dan Yayasan Kanak-kanak Audrey Hepburn)\n",
      "Audrey Hepburn koleksi berita dan komen di The New York Times\n",
      "Karya oleh atau mengenai Audrey Hepburn di perpustakaan (katalog WorldCat)\n",
      "Audrey Hepburn di Pangkalan Data Filem Internet (IMDb)  (Pangkalan Data Filem Internet, IMDb)\n",
      "Audrey Hepburn di TCM Movie Database (Pangkalan Data Filem Turner)\n",
      "Audrey Hepburn di Allmovie\n",
      "Audrey Hepburn Society di Tabung U.\n",
      "S.\n",
      " untuk UNICEF (U.\n",
      "S.\n",
      " Fund for UNICEF)\n",
      "Voguepedia - Audrey Hepburn Diarkibkan 2013-12-03 di Wayback Machine\n",
      "Vanity Fair - The Best Dressed Women of all Time - Audrey Hepburn Diarkibkan 2013-05-23 di Wayback Machine\n"
     ]
    }
   ],
   "source": [
    "# CHANGE TITLE BELOW\n",
    "title = 'Audrey Hepburn'   \n",
    "wk_title = wk.page(title)\n",
    "\n",
    "# Extract the plain text content of the page, excluding images, tables, and other data.\n",
    "text = wk_title.content\n",
    "\n",
    "# Replace '==' with '' (an empty string)\n",
    "text = text.replace('==', '')\n",
    "text = text.replace('.', '.\\n')\n",
    "\n",
    "print(text)\n",
    "\n",
    "title = title.replace(' ', '_')\n",
    "text_file_name = title + '.txt' \n",
    "text_file = open(text_file_name,'w')\n",
    "content = text_file.write(text)\n",
    "text_file.close()"
   ]
  },
  {
   "cell_type": "code",
   "execution_count": null,
   "metadata": {},
   "outputs": [],
   "source": []
  }
 ],
 "metadata": {
  "kernelspec": {
   "display_name": "ailab",
   "language": "python",
   "name": "python3"
  },
  "language_info": {
   "codemirror_mode": {
    "name": "ipython",
    "version": 3
   },
   "file_extension": ".py",
   "mimetype": "text/x-python",
   "name": "python",
   "nbconvert_exporter": "python",
   "pygments_lexer": "ipython3",
   "version": "3.7.13"
  },
  "orig_nbformat": 4,
  "vscode": {
   "interpreter": {
    "hash": "f586b03e425215c1f21cf040bcaff253bd6fd994b7b6d706658bf731a32129fa"
   }
  }
 },
 "nbformat": 4,
 "nbformat_minor": 2
}
